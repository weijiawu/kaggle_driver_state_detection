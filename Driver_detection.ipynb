{
 "cells": [
  {
   "cell_type": "code",
   "execution_count": 1,
   "metadata": {},
   "outputs": [
    {
     "name": "stderr",
     "output_type": "stream",
     "text": [
      "/home/weijia.wu/anaconda2/lib/python2.7/site-packages/h5py/__init__.py:36: FutureWarning: Conversion of the second argument of issubdtype from `float` to `np.floating` is deprecated. In future, it will be treated as `np.float64 == np.dtype(float).type`.\n",
      "  from ._conv import register_converters as _register_converters\n"
     ]
    }
   ],
   "source": [
    "%reload_ext autoreload\n",
    "%autoreload 2\n",
    "\n",
    "# 导入所有的包\n",
    "from __future__ import print_function\n",
    "from __future__ import division\n",
    "from __future__ import absolute_import\n",
    "\n",
    "import tensorflow as tf\n",
    "import tensorflow.contrib.slim as slim\n",
    "import os \n",
    "import csv\n",
    "from library.load_dataset import load_list,read_data\n",
    "import matplotlib.pyplot as plt\n",
    "\n",
    "\n",
    "os.environ['CUDA_DEVICE_ORDER']='PCI_BUS_ID'\n",
    "os.environ['CUDA_VISIBLE_DEVICES']='0'\n",
    "\n"
   ]
  },
  {
   "cell_type": "markdown",
   "metadata": {},
   "source": [
    "# 导入数据"
   ]
  },
  {
   "cell_type": "code",
   "execution_count": 2,
   "metadata": {
    "scrolled": true
   },
   "outputs": [
    {
     "name": "stdout",
     "output_type": "stream",
     "text": [
      "22424 22424\n"
     ]
    }
   ],
   "source": [
    "image_dir = '/home/weijia.wu/workspace/TensorFlow/Tensorflow_Deeplearning/CNN/dataset/train_valid/'\n",
    "list_path = '/home/weijia.wu/workspace/TensorFlow/Tensorflow_Deeplearning/CNN/dataset/driver_imgs_list.csv'\n",
    "\n",
    "image_names, image_labels = load_list(image_dir,list_path)     #读取数据list\n",
    "print(len(image_names),len(image_labels))"
   ]
  },
  {
   "cell_type": "code",
   "execution_count": 3,
   "metadata": {},
   "outputs": [
    {
     "data": {
      "text/plain": [
       "1"
      ]
     },
     "execution_count": 3,
     "metadata": {},
     "output_type": "execute_result"
    }
   ],
   "source": [
    "image_labels[100]"
   ]
  },
  {
   "cell_type": "markdown",
   "metadata": {},
   "source": [
    "# 数据分析"
   ]
  },
  {
   "cell_type": "code",
   "execution_count": 4,
   "metadata": {},
   "outputs": [],
   "source": [
    "with tf.Session() as sess:\n",
    "    test_onehot = tf.one_hot(image_labels,10)\n",
    "    test_onehot = sess.run(test_onehot)"
   ]
  },
  {
   "cell_type": "code",
   "execution_count": 5,
   "metadata": {},
   "outputs": [
    {
     "data": {
      "image/png": "[encoded data removed]",
      "text/plain": [
       "<Figure size 1440x720 with 1 Axes>"
      ]
     },
     "metadata": {},
     "output_type": "display_data"
    },
    {
     "name": "stdout",
     "output_type": "stream",
     "text": [
      "[2489.0, 2267.0, 2317.0, 2346.0, 2326.0, 2312.0, 2325.0, 2002.0, 1911.0, 2129.0]\n"
     ]
    }
   ],
   "source": [
    "\n",
    "def panda_data(label):\n",
    "    number_list = label\n",
    "    num_list = ['c0','c1','c2','c3','c4','c5','c6','c7','c8','c9']\n",
    "    plt.figure(figsize=(20,10))\n",
    "    plt.bar(range(len(number_list)), number_list, tick_label = num_list)\n",
    "    plt.show()\n",
    "\n",
    "col = map(sum,zip(*test_onehot))   #按列相加\n",
    "panda_data(col)\n",
    "print(col)"
   ]
  },
  {
   "cell_type": "markdown",
   "metadata": {},
   "source": [
    "# 创建数据dataset并进行数据处理"
   ]
  },
  {
   "cell_type": "code",
   "execution_count": 6,
   "metadata": {},
   "outputs": [],
   "source": [
    "# NUM_EXAMPLES_OF_TRAIN = 20000\n",
    "# NUM_EXAMPLES_OF_VALID = len(image_names) - NUM_EXAMPLES_OF_TRAIN\n",
    "\n",
    "# train_names, train_labels = image_names[:NUM_EXAMPLES_OF_TRAIN], image_labels[:NUM_EXAMPLES_OF_TRAIN]\n",
    "# valid_names, valid_labels = image_names[NUM_EXAMPLES_OF_TRAIN:], image_labels[NUM_EXAMPLES_OF_TRAIN:]\n",
    "\n",
    "\n",
    "from sklearn.model_selection import  train_test_split\n",
    "train_names,valid_names,train_labels,valid_labels = train_test_split(image_names,image_labels,test_size = 0.2,random_state=42)\n",
    "\n",
    "NUM_EXAMPLES_OF_TRAIN = len(train_names)\n",
    "NUM_EXAMPLES_OF_VALID = len(image_names) - NUM_EXAMPLES_OF_TRAIN\n"
   ]
  },
  {
   "cell_type": "code",
   "execution_count": 7,
   "metadata": {},
   "outputs": [],
   "source": [
    "batch_size = 10\n",
    "\n",
    "train_images, train_labels = read_data(train_names, train_labels, batch_size=batch_size, shuffle=True, phase='train')\n",
    "valid_images, valid_labels = read_data(valid_names, valid_labels, batch_size=batch_size, shuffle=False, phase='valid')"
   ]
  },
  {
   "cell_type": "code",
   "execution_count": 8,
   "metadata": {},
   "outputs": [
    {
     "data": {
      "image/png": "[encoded data removed]",
      "text/plain": [
       "<Figure size 432x288 with 1 Axes>"
      ]
     },
     "metadata": {},
     "output_type": "display_data"
    }
   ],
   "source": [
    "# 测试\n",
    "# =========这里不要修改=========\n",
    "import numpy as np\n",
    "\n",
    "with tf.Session() as sess:\n",
    "    img_fetch, label_fetch = sess.run([train_images, train_labels])\n",
    "    assert img_fetch.ndim == 4, '图像维数 != 4'\n",
    "    assert label_fetch.ndim == 1, '标签维数 != 1'\n",
    "    plt.imshow(np.uint8(img_fetch[0]))\n",
    "    plt.title('Label: %d' % label_fetch[0])"
   ]
  },
  {
   "cell_type": "markdown",
   "metadata": {},
   "source": [
    "# 构建模型"
   ]
  },
  {
   "cell_type": "code",
   "execution_count": 9,
   "metadata": {},
   "outputs": [],
   "source": [
    "from tensorflow.contrib.slim.python.slim.nets import resnet_v2\n",
    "\n",
    "def model(inputs, num_classes, is_training=False, scope='model', reuse=None):\n",
    "    '''\n",
    "    function to build forward model.\n",
    "    \n",
    "    Arguments:\n",
    "      inputs: 4维输入图像tensor.\n",
    "              \n",
    "      num_classes: 分类数.\n",
    "                   \n",
    "      is_training: 对使用 BN 层的神经网络非常有用, 你可以使用它或者不使用.\n",
    "                   \n",
    "      scope: 变量域的名称.\n",
    "             \n",
    "      reuse: 是否需要重用该变量域下的变量.\n",
    "      \n",
    "    Return:\n",
    "      output: 预测模型在使用最后一个 softmax 或者 sigmoid 之前的输出.\n",
    "    '''\n",
    "    #TODO\n",
    "    # 构造你自己的预测模型\n",
    "    \n",
    "    with slim.arg_scope(resnet_v2.resnet_arg_scope(weight_decay=0.0005)):\n",
    "        logits, endpts = resnet_v2.resnet_v2_50(inputs, num_classes, is_training=is_training, reuse=reuse, scope=scope)\n",
    "    output = tf.squeeze(logits, [1, 2], name='Output')\n",
    "    \n",
    "    return output"
   ]
  },
  {
   "cell_type": "markdown",
   "metadata": {},
   "source": [
    "# 正则化"
   ]
  },
  {
   "cell_type": "code",
   "execution_count": 10,
   "metadata": {},
   "outputs": [],
   "source": [
    "with slim.arg_scope([slim.conv2d], activation_fn=tf.nn.relu, normalizer_fn=slim.batch_norm):\n",
    "    with slim.arg_scope([slim.conv2d, slim.fully_connected], weights_regularizer = slim.regularizers.l2_regularizer(1e-3)) as sc:\n",
    "        conv_scope = sc"
   ]
  },
  {
   "cell_type": "code",
   "execution_count": 11,
   "metadata": {},
   "outputs": [],
   "source": [
    "is_training = tf.placeholder(tf.bool, name='is_training')\n",
    "\n",
    "with slim.arg_scope(conv_scope):\n",
    "    train_out = model(train_images, num_classes=10, is_training=is_training)\n",
    "    valid_out = model(valid_images, num_classes=10, is_training=is_training, reuse=True)"
   ]
  },
  {
   "cell_type": "markdown",
   "metadata": {},
   "source": [
    "# 构建 loss 函数,计算正确率和构造优化算法"
   ]
  },
  {
   "cell_type": "code",
   "execution_count": 12,
   "metadata": {
    "scrolled": true
   },
   "outputs": [],
   "source": [
    "#TODO\n",
    "# 计算 loss\n",
    "\n",
    "train_loss = tf.losses.sparse_softmax_cross_entropy(train_labels, train_out)\n",
    "valid_loss = tf.losses.sparse_softmax_cross_entropy(valid_labels, valid_out)"
   ]
  },
  {
   "cell_type": "code",
   "execution_count": 13,
   "metadata": {},
   "outputs": [],
   "source": [
    "#TODO\n",
    "# 计算概率\n",
    "\n",
    "train_prob = tf.nn.softmax(train_out)\n",
    "valid_prob = tf.nn.softmax(valid_out)"
   ]
  },
  {
   "cell_type": "code",
   "execution_count": 14,
   "metadata": {},
   "outputs": [],
   "source": [
    "#TODO\n",
    "# 计算 accuracy\n",
    "\n",
    "train_acc = tf.reduce_mean(tf.cast(tf.equal(train_labels, tf.argmax(train_prob, axis=-1, output_type=tf.int32)), dtype=tf.float32))\n",
    "valid_acc = tf.reduce_mean(tf.cast(tf.equal(valid_labels, tf.argmax(valid_prob, axis=-1, output_type=tf.int32)), dtype=tf.float32))"
   ]
  },
  {
   "cell_type": "code",
   "execution_count": 15,
   "metadata": {},
   "outputs": [],
   "source": [
    "#TODO\n",
    "# 定义优化方法\n",
    "\n",
    "opt = tf.train.AdamOptimizer(0.001, 0.9)\n",
    "\n",
    "#TODO\n",
    "# 得到所有 bn 更新算子\n",
    "\n",
    "update_ops = tf.get_collection(tf.GraphKeys.UPDATE_OPS)\n",
    "\n",
    "#TODO\n",
    "# 构造训练方法\n",
    "\n",
    "with tf.control_dependencies(update_ops):\n",
    "    train_op = opt.minimize(train_loss)"
   ]
  },
  {
   "cell_type": "markdown",
   "metadata": {},
   "source": [
    "# 训练"
   ]
  },
  {
   "cell_type": "code",
   "execution_count": 16,
   "metadata": {},
   "outputs": [],
   "source": [
    "from library.trianing import train"
   ]
  },
  {
   "cell_type": "code",
   "execution_count": 18,
   "metadata": {},
   "outputs": [
    {
     "name": "stdout",
     "output_type": "stream",
     "text": [
      "sessing....\n",
      "INFO:tensorflow:Restoring parameters from /home/weijia.wu/workspace/Kaggle/State_farm_distracted_driver_detection/resnet_v2_50_2017_04_14/resnet_v2_50.ckpt\n",
      "train....\n",
      "[2000]/[20000], train loss: 1.972, train acc: 0.316\n",
      "[4000]/[20000], train loss: 1.751, train acc: 0.386\n",
      "[6000]/[20000], train loss: 1.577, train acc: 0.452\n",
      "[8000]/[20000], train loss: 1.444, train acc: 0.504\n",
      "[10000]/[20000], train loss: 1.351, train acc: 0.538\n",
      "[12000]/[20000], train loss: 1.280, train acc: 0.562\n",
      "[14000]/[20000], train loss: 1.226, train acc: 0.581\n",
      "[16000]/[20000], train loss: 1.172, train acc: 0.600\n",
      "[18000]/[20000], train loss: 1.131, train acc: 0.614\n",
      "[20000]/[20000], train loss: 1.100, train acc: 0.624\n",
      "epoch: 1, train loss: 1.100, train acc: 0.624, valid loss: 1.916, valid acc: 0.393\n",
      "()\n",
      "[2000]/[20000], train loss: 0.757, train acc: 0.746\n",
      "[4000]/[20000], train loss: 0.750, train acc: 0.752\n",
      "[6000]/[20000], train loss: 0.682, train acc: 0.773\n",
      "[8000]/[20000], train loss: 0.641, train acc: 0.788\n",
      "[10000]/[20000], train loss: 0.617, train acc: 0.796\n",
      "[12000]/[20000], train loss: 0.607, train acc: 0.799\n",
      "[14000]/[20000], train loss: 0.613, train acc: 0.798\n",
      "[16000]/[20000], train loss: 0.609, train acc: 0.799\n",
      "[18000]/[20000], train loss: 0.607, train acc: 0.798\n",
      "[20000]/[20000], train loss: 0.606, train acc: 0.799\n",
      "epoch: 2, train loss: 0.606, train acc: 0.799, valid loss: 1.345, valid acc: 0.570\n",
      "()\n",
      "[2000]/[20000], train loss: 0.593, train acc: 0.800\n",
      "[4000]/[20000], train loss: 0.587, train acc: 0.804\n",
      "[6000]/[20000], train loss: 0.528, train acc: 0.824\n",
      "[8000]/[20000], train loss: 0.499, train acc: 0.834\n",
      "[10000]/[20000], train loss: 0.489, train acc: 0.838\n",
      "[12000]/[20000], train loss: 0.488, train acc: 0.838\n",
      "[14000]/[20000], train loss: 0.483, train acc: 0.840\n",
      "[16000]/[20000], train loss: 0.484, train acc: 0.841\n",
      "[18000]/[20000], train loss: 0.488, train acc: 0.839\n",
      "[20000]/[20000], train loss: 0.490, train acc: 0.838\n",
      "epoch: 3, train loss: 0.490, train acc: 0.838, valid loss: 1.485, valid acc: 0.493\n",
      "()\n",
      "[2000]/[20000], train loss: 0.511, train acc: 0.830\n",
      "[4000]/[20000], train loss: 0.491, train acc: 0.834\n",
      "[6000]/[20000], train loss: 0.455, train acc: 0.848\n",
      "[8000]/[20000], train loss: 0.417, train acc: 0.862\n",
      "[10000]/[20000], train loss: 0.409, train acc: 0.864\n",
      "[12000]/[20000], train loss: 0.410, train acc: 0.866\n",
      "[14000]/[20000], train loss: 0.413, train acc: 0.863\n",
      "[16000]/[20000], train loss: 0.413, train acc: 0.865\n",
      "[18000]/[20000], train loss: 0.422, train acc: 0.861\n",
      "[20000]/[20000], train loss: 0.422, train acc: 0.860\n",
      "epoch: 4, train loss: 0.422, train acc: 0.860, valid loss: 1.514, valid acc: 0.523\n",
      "()\n",
      "[2000]/[20000], train loss: 0.514, train acc: 0.831\n",
      "[4000]/[20000], train loss: 0.463, train acc: 0.851\n",
      "[6000]/[20000], train loss: 0.419, train acc: 0.866\n",
      "[8000]/[20000], train loss: 0.382, train acc: 0.879\n",
      "[10000]/[20000], train loss: 0.377, train acc: 0.880\n",
      "[12000]/[20000], train loss: 0.365, train acc: 0.883\n",
      "[14000]/[20000], train loss: 0.364, train acc: 0.883\n",
      "[16000]/[20000], train loss: 0.365, train acc: 0.882\n",
      "[18000]/[20000], train loss: 0.371, train acc: 0.880\n",
      "[20000]/[20000], train loss: 0.372, train acc: 0.879\n",
      "epoch: 5, train loss: 0.373, train acc: 0.879, valid loss: 1.406, valid acc: 0.533\n",
      "()\n",
      "[2000]/[20000], train loss: 0.375, train acc: 0.880\n",
      "[4000]/[20000], train loss: 0.364, train acc: 0.884\n",
      "[6000]/[20000], train loss: 0.338, train acc: 0.892\n",
      "[8000]/[20000], train loss: 0.317, train acc: 0.898\n",
      "[10000]/[20000], train loss: 0.314, train acc: 0.897\n",
      "[12000]/[20000], train loss: 0.323, train acc: 0.895\n",
      "[14000]/[20000], train loss: 0.319, train acc: 0.897\n",
      "[16000]/[20000], train loss: 0.317, train acc: 0.898\n",
      "[18000]/[20000], train loss: 0.323, train acc: 0.896\n",
      "[20000]/[20000], train loss: 0.325, train acc: 0.895\n",
      "epoch: 6, train loss: 0.325, train acc: 0.895, valid loss: 1.324, valid acc: 0.552\n",
      "()\n",
      "[2000]/[20000], train loss: 0.322, train acc: 0.881\n",
      "[4000]/[20000], train loss: 0.314, train acc: 0.891\n",
      "[6000]/[20000], train loss: 0.292, train acc: 0.901\n",
      "[8000]/[20000], train loss: 0.264, train acc: 0.911\n",
      "[10000]/[20000], train loss: 0.267, train acc: 0.910\n",
      "[12000]/[20000], train loss: 0.268, train acc: 0.909\n",
      "[14000]/[20000], train loss: 0.270, train acc: 0.908\n",
      "[16000]/[20000], train loss: 0.276, train acc: 0.908\n",
      "[18000]/[20000], train loss: 0.281, train acc: 0.906\n",
      "[20000]/[20000], train loss: 0.284, train acc: 0.906\n",
      "epoch: 7, train loss: 0.284, train acc: 0.906, valid loss: 1.349, valid acc: 0.605\n",
      "()\n",
      "[2000]/[20000], train loss: 0.269, train acc: 0.906\n",
      "[4000]/[20000], train loss: 0.283, train acc: 0.905\n",
      "[6000]/[20000], train loss: 0.274, train acc: 0.912\n",
      "[8000]/[20000], train loss: 0.249, train acc: 0.920\n",
      "[10000]/[20000], train loss: 0.246, train acc: 0.921\n",
      "[12000]/[20000], train loss: 0.253, train acc: 0.919\n",
      "[14000]/[20000], train loss: 0.250, train acc: 0.919\n",
      "[16000]/[20000], train loss: 0.253, train acc: 0.918\n",
      "[18000]/[20000], train loss: 0.255, train acc: 0.916\n",
      "[20000]/[20000], train loss: 0.255, train acc: 0.917\n",
      "epoch: 8, train loss: 0.255, train acc: 0.917, valid loss: 0.991, valid acc: 0.680\n",
      "()\n",
      "[2000]/[20000], train loss: 0.278, train acc: 0.901\n",
      "[4000]/[20000], train loss: 0.265, train acc: 0.908\n",
      "[6000]/[20000], train loss: 0.241, train acc: 0.917\n",
      "[8000]/[20000], train loss: 0.217, train acc: 0.927\n",
      "[10000]/[20000], train loss: 0.220, train acc: 0.928\n",
      "[12000]/[20000], train loss: 0.222, train acc: 0.927\n",
      "[14000]/[20000], train loss: 0.220, train acc: 0.928\n",
      "[16000]/[20000], train loss: 0.223, train acc: 0.928\n",
      "[18000]/[20000], train loss: 0.231, train acc: 0.925\n",
      "[20000]/[20000], train loss: 0.234, train acc: 0.924\n",
      "epoch: 9, train loss: 0.234, train acc: 0.924, valid loss: 1.414, valid acc: 0.599\n",
      "()\n",
      "[2000]/[20000], train loss: 0.236, train acc: 0.912\n",
      "[4000]/[20000], train loss: 0.236, train acc: 0.918\n",
      "[6000]/[20000], train loss: 0.220, train acc: 0.926\n",
      "[8000]/[20000], train loss: 0.208, train acc: 0.931\n",
      "[10000]/[20000], train loss: 0.213, train acc: 0.931\n",
      "[12000]/[20000], train loss: 0.214, train acc: 0.930\n",
      "[14000]/[20000], train loss: 0.215, train acc: 0.930\n",
      "[16000]/[20000], train loss: 0.218, train acc: 0.929\n",
      "[18000]/[20000], train loss: 0.219, train acc: 0.928\n",
      "[20000]/[20000], train loss: 0.216, train acc: 0.929\n",
      "epoch: 10, train loss: 0.216, train acc: 0.929, valid loss: 1.139, valid acc: 0.637\n",
      "()\n",
      "[2000]/[20000], train loss: 0.237, train acc: 0.921\n",
      "[4000]/[20000], train loss: 0.222, train acc: 0.929\n",
      "[6000]/[20000], train loss: 0.206, train acc: 0.934\n",
      "[8000]/[20000], train loss: 0.192, train acc: 0.938\n",
      "[10000]/[20000], train loss: 0.194, train acc: 0.937\n",
      "[12000]/[20000], train loss: 0.191, train acc: 0.938\n",
      "[14000]/[20000], train loss: 0.189, train acc: 0.939\n",
      "[16000]/[20000], train loss: 0.192, train acc: 0.938\n",
      "[18000]/[20000], train loss: 0.198, train acc: 0.935\n",
      "[20000]/[20000], train loss: 0.201, train acc: 0.934\n",
      "epoch: 11, train loss: 0.201, train acc: 0.934, valid loss: 1.561, valid acc: 0.529\n",
      "()\n",
      "[2000]/[20000], train loss: 0.214, train acc: 0.924\n",
      "[4000]/[20000], train loss: 0.200, train acc: 0.934\n",
      "[6000]/[20000], train loss: 0.183, train acc: 0.940\n",
      "[8000]/[20000], train loss: 0.162, train acc: 0.947\n",
      "[10000]/[20000], train loss: 0.168, train acc: 0.946\n",
      "[12000]/[20000], train loss: 0.163, train acc: 0.946\n",
      "[14000]/[20000], train loss: 0.164, train acc: 0.946\n",
      "[16000]/[20000], train loss: 0.169, train acc: 0.945\n",
      "[18000]/[20000], train loss: 0.172, train acc: 0.944\n",
      "[20000]/[20000], train loss: 0.174, train acc: 0.943\n",
      "epoch: 12, train loss: 0.174, train acc: 0.943, valid loss: 1.389, valid acc: 0.585\n",
      "()\n",
      "[2000]/[20000], train loss: 0.208, train acc: 0.928\n",
      "[4000]/[20000], train loss: 0.192, train acc: 0.938\n",
      "[6000]/[20000], train loss: 0.182, train acc: 0.941\n",
      "[8000]/[20000], train loss: 0.161, train acc: 0.948\n",
      "[10000]/[20000], train loss: 0.166, train acc: 0.946\n",
      "[12000]/[20000], train loss: 0.167, train acc: 0.945\n",
      "[14000]/[20000], train loss: 0.164, train acc: 0.947\n",
      "[16000]/[20000], train loss: 0.169, train acc: 0.946\n",
      "[18000]/[20000], train loss: 0.170, train acc: 0.945\n",
      "[20000]/[20000], train loss: 0.172, train acc: 0.944\n",
      "epoch: 13, train loss: 0.172, train acc: 0.944, valid loss: 1.501, valid acc: 0.567\n",
      "()\n",
      "[2000]/[20000], train loss: 0.187, train acc: 0.933\n",
      "[4000]/[20000], train loss: 0.181, train acc: 0.941\n"
     ]
    },
    {
     "name": "stdout",
     "output_type": "stream",
     "text": [
      "[6000]/[20000], train loss: 0.178, train acc: 0.945\n",
      "[8000]/[20000], train loss: 0.159, train acc: 0.950\n",
      "[10000]/[20000], train loss: 0.158, train acc: 0.949\n",
      "[12000]/[20000], train loss: 0.163, train acc: 0.947\n",
      "[14000]/[20000], train loss: 0.163, train acc: 0.947\n",
      "[16000]/[20000], train loss: 0.163, train acc: 0.948\n",
      "[18000]/[20000], train loss: 0.163, train acc: 0.947\n",
      "[20000]/[20000], train loss: 0.162, train acc: 0.948\n",
      "epoch: 14, train loss: 0.162, train acc: 0.948, valid loss: 1.119, valid acc: 0.607\n",
      "()\n",
      "[2000]/[20000], train loss: 0.169, train acc: 0.939\n",
      "[4000]/[20000], train loss: 0.155, train acc: 0.947\n",
      "[6000]/[20000], train loss: 0.152, train acc: 0.948\n",
      "[8000]/[20000], train loss: 0.135, train acc: 0.954\n",
      "[10000]/[20000], train loss: 0.141, train acc: 0.952\n",
      "[12000]/[20000], train loss: 0.141, train acc: 0.952\n",
      "[14000]/[20000], train loss: 0.144, train acc: 0.952\n",
      "[16000]/[20000], train loss: 0.146, train acc: 0.951\n",
      "[18000]/[20000], train loss: 0.147, train acc: 0.950\n",
      "[20000]/[20000], train loss: 0.149, train acc: 0.950\n",
      "epoch: 15, train loss: 0.149, train acc: 0.950, valid loss: 1.373, valid acc: 0.545\n",
      "()\n",
      "[2000]/[20000], train loss: 0.150, train acc: 0.948\n",
      "[4000]/[20000], train loss: 0.155, train acc: 0.950\n",
      "[6000]/[20000], train loss: 0.142, train acc: 0.953\n",
      "[8000]/[20000], train loss: 0.126, train acc: 0.959\n",
      "[10000]/[20000], train loss: 0.129, train acc: 0.958\n",
      "[12000]/[20000], train loss: 0.131, train acc: 0.957\n",
      "[14000]/[20000], train loss: 0.130, train acc: 0.957\n",
      "[16000]/[20000], train loss: 0.132, train acc: 0.957\n",
      "[18000]/[20000], train loss: 0.135, train acc: 0.956\n",
      "[20000]/[20000], train loss: 0.134, train acc: 0.957\n",
      "epoch: 16, train loss: 0.134, train acc: 0.957, valid loss: 1.138, valid acc: 0.640\n",
      "()\n",
      "[2000]/[20000], train loss: 0.203, train acc: 0.936\n",
      "[4000]/[20000], train loss: 0.173, train acc: 0.944\n",
      "[6000]/[20000], train loss: 0.156, train acc: 0.949\n",
      "[8000]/[20000], train loss: 0.138, train acc: 0.955\n",
      "[10000]/[20000], train loss: 0.134, train acc: 0.956\n",
      "[12000]/[20000], train loss: 0.135, train acc: 0.956\n",
      "[14000]/[20000], train loss: 0.134, train acc: 0.956\n",
      "[16000]/[20000], train loss: 0.135, train acc: 0.956\n",
      "[18000]/[20000], train loss: 0.138, train acc: 0.955\n",
      "[20000]/[20000], train loss: 0.141, train acc: 0.954\n",
      "epoch: 17, train loss: 0.141, train acc: 0.954, valid loss: 1.318, valid acc: 0.549\n",
      "()\n",
      "[2000]/[20000], train loss: 0.142, train acc: 0.954\n",
      "[4000]/[20000], train loss: 0.130, train acc: 0.958\n",
      "[6000]/[20000], train loss: 0.126, train acc: 0.960\n",
      "[8000]/[20000], train loss: 0.117, train acc: 0.963\n",
      "[10000]/[20000], train loss: 0.116, train acc: 0.963\n",
      "[12000]/[20000], train loss: 0.115, train acc: 0.964\n",
      "[14000]/[20000], train loss: 0.121, train acc: 0.962\n",
      "[16000]/[20000], train loss: 0.122, train acc: 0.962\n",
      "[18000]/[20000], train loss: 0.123, train acc: 0.962\n",
      "[20000]/[20000], train loss: 0.125, train acc: 0.961\n",
      "epoch: 18, train loss: 0.125, train acc: 0.961, valid loss: 1.228, valid acc: 0.621\n",
      "()\n",
      "[2000]/[20000], train loss: 0.143, train acc: 0.950\n",
      "[4000]/[20000], train loss: 0.133, train acc: 0.955\n",
      "[6000]/[20000], train loss: 0.116, train acc: 0.960\n",
      "[8000]/[20000], train loss: 0.107, train acc: 0.964\n",
      "[10000]/[20000], train loss: 0.109, train acc: 0.964\n",
      "[12000]/[20000], train loss: 0.113, train acc: 0.962\n",
      "[14000]/[20000], train loss: 0.110, train acc: 0.963\n",
      "[16000]/[20000], train loss: 0.112, train acc: 0.963\n",
      "[18000]/[20000], train loss: 0.119, train acc: 0.961\n",
      "[20000]/[20000], train loss: 0.118, train acc: 0.961\n",
      "epoch: 19, train loss: 0.118, train acc: 0.961, valid loss: 1.158, valid acc: 0.679\n",
      "()\n",
      "[2000]/[20000], train loss: 0.124, train acc: 0.956\n",
      "[4000]/[20000], train loss: 0.122, train acc: 0.957\n",
      "[6000]/[20000], train loss: 0.113, train acc: 0.963\n",
      "[8000]/[20000], train loss: 0.101, train acc: 0.966\n",
      "[10000]/[20000], train loss: 0.101, train acc: 0.966\n",
      "[12000]/[20000], train loss: 0.102, train acc: 0.965\n",
      "[14000]/[20000], train loss: 0.101, train acc: 0.966\n",
      "[16000]/[20000], train loss: 0.107, train acc: 0.965\n",
      "[18000]/[20000], train loss: 0.107, train acc: 0.964\n",
      "[20000]/[20000], train loss: 0.109, train acc: 0.964\n",
      "epoch: 20, train loss: 0.109, train acc: 0.964, valid loss: 1.194, valid acc: 0.623\n",
      "()\n",
      "[2000]/[20000], train loss: 0.112, train acc: 0.956\n",
      "[4000]/[20000], train loss: 0.112, train acc: 0.961\n",
      "[6000]/[20000], train loss: 0.103, train acc: 0.965\n",
      "[8000]/[20000], train loss: 0.096, train acc: 0.968\n",
      "[10000]/[20000], train loss: 0.097, train acc: 0.969\n",
      "[12000]/[20000], train loss: 0.100, train acc: 0.967\n",
      "[14000]/[20000], train loss: 0.100, train acc: 0.967\n",
      "[16000]/[20000], train loss: 0.100, train acc: 0.968\n",
      "[18000]/[20000], train loss: 0.101, train acc: 0.967\n",
      "[20000]/[20000], train loss: 0.103, train acc: 0.967\n",
      "epoch: 21, train loss: 0.102, train acc: 0.967, valid loss: 1.265, valid acc: 0.637\n",
      "()\n",
      "[2000]/[20000], train loss: 0.105, train acc: 0.965\n",
      "[4000]/[20000], train loss: 0.124, train acc: 0.961\n",
      "[6000]/[20000], train loss: 0.119, train acc: 0.962\n",
      "[8000]/[20000], train loss: 0.102, train acc: 0.967\n",
      "[10000]/[20000], train loss: 0.098, train acc: 0.969\n",
      "[12000]/[20000], train loss: 0.100, train acc: 0.968\n",
      "[14000]/[20000], train loss: 0.098, train acc: 0.969\n",
      "[16000]/[20000], train loss: 0.100, train acc: 0.968\n",
      "[18000]/[20000], train loss: 0.104, train acc: 0.967\n",
      "[20000]/[20000], train loss: 0.103, train acc: 0.967\n",
      "epoch: 22, train loss: 0.103, train acc: 0.967, valid loss: 1.483, valid acc: 0.593\n",
      "()\n",
      "[2000]/[20000], train loss: 0.113, train acc: 0.959\n",
      "[4000]/[20000], train loss: 0.109, train acc: 0.962\n",
      "[6000]/[20000], train loss: 0.106, train acc: 0.964\n",
      "[8000]/[20000], train loss: 0.095, train acc: 0.967\n",
      "[10000]/[20000], train loss: 0.098, train acc: 0.967\n",
      "[12000]/[20000], train loss: 0.096, train acc: 0.968\n",
      "[14000]/[20000], train loss: 0.098, train acc: 0.967\n",
      "[16000]/[20000], train loss: 0.098, train acc: 0.967\n",
      "[18000]/[20000], train loss: 0.102, train acc: 0.965\n",
      "[20000]/[20000], train loss: 0.101, train acc: 0.965\n",
      "epoch: 23, train loss: 0.101, train acc: 0.965, valid loss: 1.539, valid acc: 0.597\n",
      "()\n",
      "[2000]/[20000], train loss: 0.096, train acc: 0.962\n",
      "[4000]/[20000], train loss: 0.101, train acc: 0.963\n",
      "[6000]/[20000], train loss: 0.087, train acc: 0.968\n",
      "[8000]/[20000], train loss: 0.079, train acc: 0.972\n",
      "[10000]/[20000], train loss: 0.082, train acc: 0.972\n",
      "[12000]/[20000], train loss: 0.082, train acc: 0.972\n",
      "[14000]/[20000], train loss: 0.087, train acc: 0.971\n",
      "[16000]/[20000], train loss: 0.087, train acc: 0.970\n",
      "[18000]/[20000], train loss: 0.091, train acc: 0.969\n",
      "[20000]/[20000], train loss: 0.091, train acc: 0.969\n",
      "epoch: 24, train loss: 0.091, train acc: 0.969, valid loss: 1.089, valid acc: 0.666\n",
      "()\n",
      "[2000]/[20000], train loss: 0.106, train acc: 0.961\n",
      "[4000]/[20000], train loss: 0.114, train acc: 0.960\n",
      "[6000]/[20000], train loss: 0.106, train acc: 0.964\n",
      "[8000]/[20000], train loss: 0.093, train acc: 0.969\n",
      "[10000]/[20000], train loss: 0.090, train acc: 0.969\n",
      "[12000]/[20000], train loss: 0.091, train acc: 0.969\n",
      "[14000]/[20000], train loss: 0.092, train acc: 0.969\n",
      "[16000]/[20000], train loss: 0.094, train acc: 0.968\n",
      "[18000]/[20000], train loss: 0.095, train acc: 0.968\n",
      "[20000]/[20000], train loss: 0.094, train acc: 0.968\n",
      "epoch: 25, train loss: 0.094, train acc: 0.969, valid loss: 1.377, valid acc: 0.622\n",
      "()\n",
      "[2000]/[20000], train loss: 0.104, train acc: 0.961\n",
      "[4000]/[20000], train loss: 0.091, train acc: 0.969\n",
      "[6000]/[20000], train loss: 0.088, train acc: 0.971\n",
      "[8000]/[20000], train loss: 0.085, train acc: 0.973\n",
      "[10000]/[20000], train loss: 0.086, train acc: 0.972\n",
      "[12000]/[20000], train loss: 0.091, train acc: 0.970\n",
      "[14000]/[20000], train loss: 0.088, train acc: 0.971\n",
      "[16000]/[20000], train loss: 0.089, train acc: 0.971\n",
      "[18000]/[20000], train loss: 0.090, train acc: 0.971\n",
      "[20000]/[20000], train loss: 0.090, train acc: 0.971\n",
      "epoch: 26, train loss: 0.090, train acc: 0.971, valid loss: 1.571, valid acc: 0.644\n",
      "()\n",
      "[2000]/[20000], train loss: 0.093, train acc: 0.969\n",
      "[4000]/[20000], train loss: 0.094, train acc: 0.968\n",
      "[6000]/[20000], train loss: 0.089, train acc: 0.972\n",
      "[8000]/[20000], train loss: 0.081, train acc: 0.974\n",
      "[10000]/[20000], train loss: 0.080, train acc: 0.975\n",
      "[12000]/[20000], train loss: 0.084, train acc: 0.973\n",
      "[14000]/[20000], train loss: 0.085, train acc: 0.973\n"
     ]
    },
    {
     "name": "stdout",
     "output_type": "stream",
     "text": [
      "[16000]/[20000], train loss: 0.085, train acc: 0.973\n",
      "[18000]/[20000], train loss: 0.090, train acc: 0.971\n",
      "[20000]/[20000], train loss: 0.089, train acc: 0.971\n",
      "epoch: 27, train loss: 0.089, train acc: 0.971, valid loss: 1.202, valid acc: 0.632\n",
      "()\n",
      "[2000]/[20000], train loss: 0.095, train acc: 0.967\n",
      "[4000]/[20000], train loss: 0.094, train acc: 0.969\n",
      "[6000]/[20000], train loss: 0.093, train acc: 0.971\n",
      "[8000]/[20000], train loss: 0.082, train acc: 0.975\n",
      "[10000]/[20000], train loss: 0.082, train acc: 0.974\n",
      "[12000]/[20000], train loss: 0.082, train acc: 0.974\n",
      "[14000]/[20000], train loss: 0.082, train acc: 0.974\n",
      "[16000]/[20000], train loss: 0.086, train acc: 0.973\n",
      "[18000]/[20000], train loss: 0.087, train acc: 0.972\n",
      "[20000]/[20000], train loss: 0.087, train acc: 0.972\n",
      "epoch: 28, train loss: 0.087, train acc: 0.972, valid loss: 1.336, valid acc: 0.638\n",
      "()\n",
      "[2000]/[20000], train loss: 0.081, train acc: 0.970\n",
      "[4000]/[20000], train loss: 0.079, train acc: 0.972\n",
      "[6000]/[20000], train loss: 0.075, train acc: 0.974\n",
      "[8000]/[20000], train loss: 0.072, train acc: 0.975\n",
      "[10000]/[20000], train loss: 0.073, train acc: 0.975\n",
      "[12000]/[20000], train loss: 0.078, train acc: 0.973\n",
      "[14000]/[20000], train loss: 0.077, train acc: 0.973\n",
      "[16000]/[20000], train loss: 0.077, train acc: 0.974\n",
      "[18000]/[20000], train loss: 0.078, train acc: 0.974\n",
      "[20000]/[20000], train loss: 0.079, train acc: 0.973\n",
      "epoch: 29, train loss: 0.079, train acc: 0.973, valid loss: 1.096, valid acc: 0.671\n",
      "()\n",
      "[2000]/[20000], train loss: 0.102, train acc: 0.961\n",
      "[4000]/[20000], train loss: 0.082, train acc: 0.971\n",
      "[6000]/[20000], train loss: 0.080, train acc: 0.972\n",
      "[8000]/[20000], train loss: 0.074, train acc: 0.974\n",
      "[10000]/[20000], train loss: 0.074, train acc: 0.974\n",
      "[12000]/[20000], train loss: 0.077, train acc: 0.973\n",
      "[14000]/[20000], train loss: 0.078, train acc: 0.973\n",
      "[16000]/[20000], train loss: 0.079, train acc: 0.973\n",
      "[18000]/[20000], train loss: 0.081, train acc: 0.972\n",
      "[20000]/[20000], train loss: 0.080, train acc: 0.972\n",
      "epoch: 30, train loss: 0.080, train acc: 0.972, valid loss: 1.119, valid acc: 0.671\n",
      "()\n",
      "model saved to tmp/model.ckpt\n"
     ]
    },
    {
     "data": {
      "image/png": "[encoded data removed]",
      "text/plain": [
       "<Figure size 720x720 with 4 Axes>"
      ]
     },
     "metadata": {},
     "output_type": "display_data"
    }
   ],
   "source": [
    "train(train_op, train_loss, train_acc, 30, is_training, valid_loss, valid_acc, save_path='tmp', pretrained_model='/home/weijia.wu/workspace/Kaggle/State_farm_distracted_driver_detection/resnet_v2_50_2017_04_14/resnet_v2_50.ckpt')"
   ]
  },
  {
   "cell_type": "markdown",
   "metadata": {},
   "source": [
    "# 预测数据集"
   ]
  },
  {
   "cell_type": "code",
   "execution_count": 20,
   "metadata": {},
   "outputs": [],
   "source": [
    "import pandas as pd \n",
    "import os\n",
    "import numpy as np\n",
    "from library.test_data import read_test,predict_result"
   ]
  },
  {
   "cell_type": "code",
   "execution_count": 21,
   "metadata": {},
   "outputs": [],
   "source": [
    "tf.reset_default_graph()"
   ]
  },
  {
   "cell_type": "code",
   "execution_count": 22,
   "metadata": {},
   "outputs": [],
   "source": [
    "import tensorflow.contrib.slim as slim\n",
    "import tensorflow as tf"
   ]
  },
  {
   "cell_type": "code",
   "execution_count": 25,
   "metadata": {},
   "outputs": [
    {
     "name": "stdout",
     "output_type": "stream",
     "text": [
      "INFO:tensorflow:Restoring parameters from /home/weijia.wu/workspace/Kaggle/State_farm_distracted_driver_detection/tmp/model.ckpt\n",
      "1000 done!\n",
      "2000 done!\n",
      "3000 done!\n",
      "4000 done!\n",
      "5000 done!\n",
      "6000 done!\n",
      "7000 done!\n",
      "8000 done!\n",
      "9000 done!\n",
      "10000 done!\n",
      "11000 done!\n",
      "12000 done!\n",
      "13000 done!\n",
      "14000 done!\n",
      "15000 done!\n",
      "16000 done!\n",
      "17000 done!\n",
      "18000 done!\n",
      "19000 done!\n",
      "20000 done!\n",
      "21000 done!\n",
      "22000 done!\n",
      "23000 done!\n",
      "24000 done!\n",
      "25000 done!\n",
      "26000 done!\n",
      "27000 done!\n",
      "28000 done!\n",
      "29000 done!\n",
      "30000 done!\n",
      "31000 done!\n",
      "32000 done!\n",
      "33000 done!\n",
      "34000 done!\n",
      "35000 done!\n",
      "36000 done!\n",
      "37000 done!\n",
      "38000 done!\n",
      "39000 done!\n",
      "40000 done!\n",
      "41000 done!\n",
      "42000 done!\n",
      "43000 done!\n",
      "44000 done!\n",
      "45000 done!\n",
      "46000 done!\n",
      "47000 done!\n",
      "48000 done!\n",
      "49000 done!\n",
      "50000 done!\n",
      "51000 done!\n",
      "52000 done!\n",
      "53000 done!\n",
      "54000 done!\n",
      "55000 done!\n",
      "56000 done!\n",
      "57000 done!\n",
      "58000 done!\n",
      "59000 done!\n",
      "60000 done!\n",
      "61000 done!\n",
      "62000 done!\n",
      "63000 done!\n",
      "64000 done!\n",
      "65000 done!\n",
      "66000 done!\n",
      "67000 done!\n",
      "68000 done!\n",
      "69000 done!\n",
      "70000 done!\n",
      "71000 done!\n",
      "72000 done!\n",
      "73000 done!\n",
      "74000 done!\n",
      "75000 done!\n",
      "76000 done!\n",
      "77000 done!\n",
      "78000 done!\n",
      "79000 done!\n"
     ]
    }
   ],
   "source": [
    "\n",
    "test_name,test_images = read_test('/home/weijia.wu/workspace/TensorFlow/Tensorflow_Deeplearning/CNN/dataset/test/')\n",
    "submission = predict_result(test_images,test_name,'/home/weijia.wu/workspace/Kaggle/State_farm_distracted_driver_detection/tmp/model.ckpt',model)"
   ]
  },
  {
   "cell_type": "code",
   "execution_count": 26,
   "metadata": {},
   "outputs": [],
   "source": [
    "idx_to_class = {}\n",
    "for i in range(10):\n",
    "    idx_to_class[i] = 'c%d' % i"
   ]
  },
  {
   "cell_type": "code",
   "execution_count": 27,
   "metadata": {},
   "outputs": [],
   "source": [
    "submission.columns = [['img'] + [i for i in idx_to_class.values()]]"
   ]
  },
  {
   "cell_type": "code",
   "execution_count": 28,
   "metadata": {},
   "outputs": [],
   "source": [
    "submission.to_csv('./submission.csv', index=False)"
   ]
  },
  {
   "cell_type": "markdown",
   "metadata": {},
   "source": [
    "# 自动划分训练集和测试集"
   ]
  },
  {
   "cell_type": "code",
   "execution_count": 3,
   "metadata": {},
   "outputs": [
    {
     "data": {
      "text/plain": [
       "array([0.97917312, 1.09524264, 0.9661778 , 0.95449431, 1.04305825,\n",
       "       0.99531452, 1.14467802, 0.77014781, 1.03741049, 0.78262269,\n",
       "       1.07096649, 1.08475027, 1.17487973, 1.04707371, 1.08505945,\n",
       "       1.01686259, 0.91193381, 1.06776786, 1.03551245, 0.86049137,\n",
       "       0.99200195, 1.07811484, 1.13396161, 0.88047065, 1.15685144,\n",
       "       0.95369148, 0.95351455, 1.09521739, 0.99477195, 0.95697295,\n",
       "       0.96969119, 1.06855116, 0.93135976, 1.02270673, 1.08146143,\n",
       "       0.94639083, 1.08397386, 1.04157172, 0.87632596, 0.97799582,\n",
       "       0.981047  , 0.80590779, 1.04193223, 1.13990858, 1.03335999,\n",
       "       0.8212618 , 1.10764786, 1.12738561, 0.91222671, 0.73472432,\n",
       "       0.88794317, 0.88202768, 0.98685883, 1.01998712, 1.01855224,\n",
       "       1.08626744, 1.26630488, 1.01287348, 1.06814386, 0.98540805,\n",
       "       0.93858386, 0.9777675 , 0.93730551, 1.12141391, 0.94846291,\n",
       "       1.06946469, 1.00223055, 1.17081318, 0.97519595, 0.8252117 ,\n",
       "       0.96472183, 1.07545659, 1.08561879, 1.06899508, 0.91261816,\n",
       "       1.04318375, 1.06097644, 0.94754764, 1.13796013, 0.84564777,\n",
       "       1.06599726, 0.99456972, 1.02835601, 0.79930507, 0.89653239,\n",
       "       0.86756951, 1.15511026, 1.02109049, 0.97812457, 0.94890443,\n",
       "       1.22484635, 0.82613546, 0.87683563, 0.96620728, 0.77241079,\n",
       "       0.78864856, 0.90573769, 1.10499017, 1.13077231, 0.91519131])"
      ]
     },
     "execution_count": 3,
     "metadata": {},
     "output_type": "execute_result"
    }
   ],
   "source": [
    "import numpy as np\n",
    "# 正态分布生成原始数据\n",
    "x = np.random.normal(1,0.1,100)\n",
    "# 按8:2分割数据\n",
    "# x_train_index = np.random.choice(len(x),round(len(x)*0.8),replace = False)\n",
    "# x_valid_index = np.array(list(set(range(len(x))) - set(x_train_index)))\n",
    "\n",
    "# x_train = x[x_train_index]\n",
    "# x_valid = x[x_valid_index]\n",
    "x"
   ]
  },
  {
   "cell_type": "code",
   "execution_count": 9,
   "metadata": {},
   "outputs": [
    {
     "data": {
      "text/plain": [
       "array([19, 10, 41, 79, 39, 77, 27, 22, 34,  6, 29,  5, 51, 72, 50,  3, 54,\n",
       "        0, 48, 40, 62, 86,  8, 73, 28, 74, 21, 26, 36, 57, 66, 93, 17, 82,\n",
       "       69, 92,  9, 20, 96, 13, 52, 68, 56, 97, 78, 53, 14, 94, 87, 67, 47,\n",
       "       24,  2, 11, 42, 15, 59, 89, 25, 49, 58, 32, 98, 23, 55, 85,  7,  4,\n",
       "       44, 38, 81, 75, 37, 83, 95, 63, 30, 80, 91, 60])"
      ]
     },
     "execution_count": 9,
     "metadata": {},
     "output_type": "execute_result"
    }
   ],
   "source": [
    "x_train_index = np.random.choice(len(x),int(round(len(x)*0.8)),replace = False)\n",
    "x_train_index"
   ]
  },
  {
   "cell_type": "code",
   "execution_count": 10,
   "metadata": {},
   "outputs": [
    {
     "data": {
      "text/plain": [
       "array([64,  1, 35, 70, 65, 33, 76, 43, 12, 45, 46, 16, 90, 18, 99, 84, 88,\n",
       "       71, 61, 31])"
      ]
     },
     "execution_count": 10,
     "metadata": {},
     "output_type": "execute_result"
    }
   ],
   "source": [
    "# x_train_index = np.random.choice(len(x),round(len(x)*0.8),replace = False)\n",
    "x_valid_index = np.array(list(set(range(len(x))) - set(x_train_index)))\n",
    "x_valid_index"
   ]
  },
  {
   "cell_type": "code",
   "execution_count": 12,
   "metadata": {},
   "outputs": [
    {
     "name": "stdout",
     "output_type": "stream",
     "text": [
      "(array([0.86049137, 1.07096649, 0.80590779, 0.84564777, 0.97799582,\n",
      "       0.94754764, 1.09521739, 1.13396161, 1.08146143, 1.14467802,\n",
      "       0.95697295, 0.99531452, 0.88202768, 1.08561879, 0.88794317,\n",
      "       0.95449431, 1.01855224, 0.97917312, 0.91222671, 0.981047  ,\n",
      "       0.93730551, 1.15511026, 1.03741049, 1.06899508, 0.99477195,\n",
      "       0.91261816, 1.07811484, 0.95351455, 1.08397386, 1.01287348,\n",
      "       1.00223055, 0.96620728, 1.06776786, 1.02835601, 0.8252117 ,\n",
      "       0.87683563, 0.78262269, 0.99200195, 0.90573769, 1.04707371,\n",
      "       0.98685883, 0.97519595, 1.26630488, 1.10499017, 1.13796013,\n",
      "       1.01998712, 1.08505945, 0.77241079, 1.02109049, 1.17081318,\n",
      "       1.12738561, 1.15685144, 0.9661778 , 1.08475027, 1.04193223,\n",
      "       1.01686259, 0.98540805, 0.94890443, 0.95369148, 0.73472432,\n",
      "       1.06814386, 0.93135976, 1.13077231, 0.88047065, 1.08626744,\n",
      "       0.86756951, 0.77014781, 1.04305825, 1.03335999, 0.87632596,\n",
      "       0.99456972, 1.04318375, 1.04157172, 0.79930507, 0.78864856,\n",
      "       1.12141391, 0.96969119, 1.06599726, 0.82613546, 0.93858386]), array([0.94846291, 1.09524264, 0.94639083, 0.96472183, 1.06946469,\n",
      "       1.02270673, 1.06097644, 1.13990858, 1.17487973, 0.8212618 ,\n",
      "       1.10764786, 0.91193381, 1.22484635, 1.03551245, 0.91519131,\n",
      "       0.89653239, 0.97812457, 1.07545659, 0.9777675 , 1.06855116]))\n"
     ]
    }
   ],
   "source": [
    "x_train = x[x_train_index]\n",
    "x_valid = x[x_valid_index]\n",
    "print(x_train,x_valid)"
   ]
  }
 ],
 "metadata": {
  "kernelspec": {
   "display_name": "Python 3",
   "language": "python",
   "name": "python3"
  },
  "language_info": {
   "codemirror_mode": {
    "name": "ipython",
    "version": 2
   },
   "file_extension": ".py",
   "mimetype": "text/x-python",
   "name": "python",
   "nbconvert_exporter": "python",
   "pygments_lexer": "ipython2",
   "version": "2.7.15"
  }
 },
 "nbformat": 4,
 "nbformat_minor": 2
}
